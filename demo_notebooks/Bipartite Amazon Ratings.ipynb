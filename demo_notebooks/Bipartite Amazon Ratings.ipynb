{
 "cells": [
  {
   "cell_type": "code",
   "execution_count": 0,
   "metadata": {
    "application/vnd.databricks.v1+cell": {
     "cellMetadata": {
      "byteLimit": 2048000,
      "rowLimit": 10000
     },
     "inputWidgets": {},
     "nuid": "5c0a7573-b257-4397-9e8f-b22767b75e4a",
     "showTitle": false,
     "tableResultSettingsMap": {},
     "title": ""
    }
   },
   "outputs": [],
   "source": [
    "%pip install neo4j-parallel-spark-loader"
   ]
  },
  {
   "cell_type": "code",
   "execution_count": 0,
   "metadata": {
    "application/vnd.databricks.v1+cell": {
     "cellMetadata": {
      "byteLimit": 2048000,
      "rowLimit": 10000
     },
     "inputWidgets": {},
     "nuid": "6cef87a0-53a6-4972-a033-eaed9b8b5a6f",
     "showTitle": false,
     "tableResultSettingsMap": {},
     "title": ""
    }
   },
   "outputs": [],
   "source": [
    "import os\n",
    "from pyspark.sql import SparkSession\n",
    "from pyspark.sql.types import StructType, StructField, IntegerType, FloatType\n",
    "from pyspark.sql import functions as F\n",
    "import requests\n",
    "from io import BytesIO\n",
    "from zipfile import ZipFile\n",
    "from neo4j import Query, GraphDatabase, RoutingControl, Result\n",
    "from neo4j_parallel_spark_loader.bipartite import group_and_batch_spark_dataframe\n",
    "from neo4j_parallel_spark_loader import ingest_spark_dataframe\n",
    "from neo4j_parallel_spark_loader.visualize import create_ingest_heatmap\n",
    "import time"
   ]
  },
  {
   "cell_type": "markdown",
   "metadata": {
    "application/vnd.databricks.v1+cell": {
     "cellMetadata": {
      "byteLimit": 2048000,
      "rowLimit": 10000
     },
     "inputWidgets": {},
     "nuid": "89edc23e-f2fc-4ab0-bb74-4676cf768e0f",
     "showTitle": false,
     "tableResultSettingsMap": {},
     "title": ""
    },
    "nteract": {
     "transient": {
      "deleting": false
     }
    }
   },
   "source": [
    "## Create spark session\n",
    "Update the values below for your environment"
   ]
  },
  {
   "cell_type": "code",
   "execution_count": 0,
   "metadata": {
    "application/vnd.databricks.v1+cell": {
     "cellMetadata": {
      "byteLimit": 2048000,
      "rowLimit": 10000
     },
     "inputWidgets": {},
     "nuid": "720cd832-423c-4daa-9ddf-e07b11bc2f2b",
     "showTitle": false,
     "tableResultSettingsMap": {},
     "title": ""
    }
   },
   "outputs": [],
   "source": [
    "os.environ['NEO4J_DATABASE'] = \"neo4j\"\n",
    "os.environ['NEO4J_USERNAME'] = dbutils.secrets.get(scope=\"kv_db\", key=\"neo4jUsername\")\n",
    "os.environ['NEO4J_PASSWORD'] = dbutils.secrets.get(scope=\"kv_db\", key=\"neo4jPassword\")\n",
    "os.environ['NEO4J_URI'] = dbutils.secrets.get(scope=\"kv_db\", key=\"neo4jUri\")"
   ]
  },
  {
   "cell_type": "code",
   "execution_count": 0,
   "metadata": {
    "application/vnd.databricks.v1+cell": {
     "cellMetadata": {
      "byteLimit": 2048000,
      "rowLimit": 10000
     },
     "inputWidgets": {},
     "nuid": "d2ed5d4d-f96c-482a-93fb-501b4373c26b",
     "showTitle": false,
     "tableResultSettingsMap": {},
     "title": ""
    },
    "nteract": {
     "transient": {
      "deleting": false
     }
    }
   },
   "outputs": [],
   "source": [
    "spark_executor_count=5"
   ]
  },
  {
   "cell_type": "code",
   "execution_count": 0,
   "metadata": {
    "application/vnd.databricks.v1+cell": {
     "cellMetadata": {
      "byteLimit": 2048000,
      "rowLimit": 10000
     },
     "inputWidgets": {},
     "nuid": "0475f0f4-056c-4720-b412-b921c543f7e7",
     "showTitle": false,
     "tableResultSettingsMap": {},
     "title": ""
    }
   },
   "outputs": [],
   "source": [
    "spark = (\n",
    "    SparkSession.builder\n",
    "    .appName(\"AmazonRatings\")\n",
    "    .config(\"neo4j.url\", os.environ.get(\"NEO4J_URI\"))\n",
    "    .config(\"url\", os.environ.get(\"NEO4J_URI\"))\n",
    "    .config(\"neo4j.authentication.basic.username\", os.environ.get(\"NEO4J_USERNAME\"))\n",
    "    .config(\"neo4j.authentication.basic.password\", os.environ.get(\"NEO4J_PASSWORD\"))\n",
    "    .config(\"neo4j.database\", os.environ.get(\"NEO4J_DATABASE\"))\n",
    "    .getOrCreate()\n",
    ")"
   ]
  },
  {
   "cell_type": "markdown",
   "metadata": {
    "application/vnd.databricks.v1+cell": {
     "cellMetadata": {},
     "inputWidgets": {},
     "nuid": "3add2ebe-11fa-4f63-b94a-d8561ded279d",
     "showTitle": false,
     "tableResultSettingsMap": {},
     "title": ""
    }
   },
   "source": [
    "## Connect to Neo4j"
   ]
  },
  {
   "cell_type": "markdown",
   "metadata": {
    "application/vnd.databricks.v1+cell": {
     "cellMetadata": {
      "byteLimit": 2048000,
      "rowLimit": 10000
     },
     "inputWidgets": {},
     "nuid": "11d91f26-05a3-4787-9094-8c346b6154ba",
     "showTitle": false,
     "tableResultSettingsMap": {},
     "title": ""
    }
   },
   "source": [
    "To connect to the database we use the [Neo4j Python Driver](https://neo4j.com/docs/python-manual/5/). The credentials are stored in our environment so can be specified to the driver."
   ]
  },
  {
   "cell_type": "code",
   "execution_count": 0,
   "metadata": {
    "application/vnd.databricks.v1+cell": {
     "cellMetadata": {
      "byteLimit": 2048000,
      "rowLimit": 10000
     },
     "inputWidgets": {},
     "nuid": "597e7a68-88ed-4e6c-bc7c-578129ec1eab",
     "showTitle": false,
     "tableResultSettingsMap": {},
     "title": ""
    }
   },
   "outputs": [],
   "source": [
    "driver = GraphDatabase.driver(\n",
    "    os.environ.get(\"NEO4J_URI\"),\n",
    "    auth=(os.environ.get(\"NEO4J_USERNAME\"), os.environ.get(\"NEO4J_PASSWORD\"))\n",
    ")"
   ]
  },
  {
   "cell_type": "code",
   "execution_count": 0,
   "metadata": {
    "application/vnd.databricks.v1+cell": {
     "cellMetadata": {
      "byteLimit": 2048000,
      "rowLimit": 10000
     },
     "inputWidgets": {},
     "nuid": "bae0a7be-ac16-48f8-b031-ad6cccb826de",
     "showTitle": false,
     "tableResultSettingsMap": {},
     "title": ""
    }
   },
   "outputs": [],
   "source": [
    "driver.execute_query(\n",
    "    \"\"\"\n",
    "    MATCH (n) RETURN COUNT(n) as Count\n",
    "    \"\"\",\n",
    "    database_=os.environ['NEO4J_DATABASE'],\n",
    "    routing_=RoutingControl.READ,\n",
    "    result_transformer_= lambda r: r.to_df()\n",
    ")"
   ]
  },
  {
   "cell_type": "markdown",
   "metadata": {
    "application/vnd.databricks.v1+cell": {
     "cellMetadata": {
      "byteLimit": 2048000,
      "rowLimit": 10000
     },
     "inputWidgets": {},
     "nuid": "f2e4139e-5f09-4580-8e41-8dc4010d7f8c",
     "showTitle": false,
     "tableResultSettingsMap": {},
     "title": ""
    },
    "nteract": {
     "transient": {
      "deleting": false
     }
    }
   },
   "source": [
    "## Download and Transform Data "
   ]
  },
  {
   "cell_type": "code",
   "execution_count": 0,
   "metadata": {
    "application/vnd.databricks.v1+cell": {
     "cellMetadata": {
      "byteLimit": 2048000,
      "rowLimit": 10000
     },
     "inputWidgets": {},
     "nuid": "e574bc8d-0173-4def-9a27-dccf67bc2a19",
     "showTitle": false,
     "tableResultSettingsMap": {},
     "title": ""
    },
    "nteract": {
     "transient": {
      "deleting": false
     }
    }
   },
   "outputs": [],
   "source": [
    "# Define the schema\n",
    "schema = StructType([\n",
    "    StructField(\"source_id\", IntegerType(), True),\n",
    "    StructField(\"target_id\", IntegerType(), True),\n",
    "    StructField(\"rating\", FloatType(), True),\n",
    "    StructField(\"timestamp\", IntegerType(), True)\n",
    "])\n",
    "\n",
    "# Download the ZIP file\n",
    "response = requests.get(\"https://nrvis.com/download/data/dynamic/rec-amazon-ratings.zip\")\n",
    "zip_file = ZipFile(BytesIO(response.content))\n",
    "\n",
    "# Read the CSV file directly from the ZIP\n",
    "with zip_file.open(\"rec-amazon-ratings.edges\") as file:\n",
    "    # Convert to string buffer for Spark to read\n",
    "    content = file.read().decode('utf-8')\n",
    "    \n",
    "    # Create RDD from content\n",
    "    rdd = spark.sparkContext.parallelize(content.splitlines())\n",
    "    \n",
    "    # Convert RDD to DataFrame with schema\n",
    "    rating_df = spark.read.csv(rdd, schema=schema, header=False)\n",
    "\n",
    "# Now df is your Spark DataFrame containing the data with proper column names and types\n",
    "# You can verify the data\n",
    "rating_df.show()\n",
    "rating_df.printSchema()"
   ]
  },
  {
   "cell_type": "code",
   "execution_count": 0,
   "metadata": {
    "application/vnd.databricks.v1+cell": {
     "cellMetadata": {
      "byteLimit": 2048000,
      "rowLimit": 10000
     },
     "inputWidgets": {},
     "nuid": "76ba3db5-687c-4a4e-938a-4fd7a70dc20e",
     "showTitle": false,
     "tableResultSettingsMap": {},
     "title": ""
    },
    "nteract": {
     "transient": {
      "deleting": false
     }
    }
   },
   "outputs": [],
   "source": [
    "rating_df.count()"
   ]
  },
  {
   "cell_type": "markdown",
   "metadata": {
    "application/vnd.databricks.v1+cell": {
     "cellMetadata": {
      "byteLimit": 2048000,
      "rowLimit": 10000
     },
     "inputWidgets": {},
     "nuid": "ee7a95ef-61da-4de2-8d54-efafa50060ed",
     "showTitle": false,
     "tableResultSettingsMap": {},
     "title": ""
    },
    "nteract": {
     "transient": {
      "deleting": false
     }
    }
   },
   "source": [
    "## Load Nodes"
   ]
  },
  {
   "cell_type": "code",
   "execution_count": 0,
   "metadata": {
    "application/vnd.databricks.v1+cell": {
     "cellMetadata": {
      "byteLimit": 2048000,
      "rowLimit": 10000
     },
     "inputWidgets": {},
     "nuid": "4a8d0371-c0cd-44c1-96c0-f19eca75cd10",
     "showTitle": false,
     "tableResultSettingsMap": {},
     "title": ""
    }
   },
   "outputs": [],
   "source": [
    "source_df = ( \n",
    "    rating_df\n",
    "    .select(\"source_id\")\n",
    "    .distinct()\n",
    ")"
   ]
  },
  {
   "cell_type": "code",
   "execution_count": 0,
   "metadata": {
    "application/vnd.databricks.v1+cell": {
     "cellMetadata": {
      "byteLimit": 2048000,
      "rowLimit": 10000
     },
     "inputWidgets": {},
     "nuid": "1410a22a-02b1-42e6-b483-24eb0b3e1c40",
     "showTitle": false,
     "tableResultSettingsMap": {},
     "title": ""
    }
   },
   "outputs": [],
   "source": [
    "source_df.count()"
   ]
  },
  {
   "cell_type": "code",
   "execution_count": 0,
   "metadata": {
    "application/vnd.databricks.v1+cell": {
     "cellMetadata": {
      "byteLimit": 2048000,
      "rowLimit": 10000
     },
     "inputWidgets": {},
     "nuid": "d9fb1c35-d00d-4761-b0fb-e9cd80edd0d5",
     "showTitle": false,
     "tableResultSettingsMap": {},
     "title": ""
    }
   },
   "outputs": [],
   "source": [
    "source_df.limit(5).display()"
   ]
  },
  {
   "cell_type": "code",
   "execution_count": 0,
   "metadata": {
    "application/vnd.databricks.v1+cell": {
     "cellMetadata": {
      "byteLimit": 2048000,
      "rowLimit": 10000
     },
     "inputWidgets": {},
     "nuid": "ed2aef05-a903-4f45-ade2-3b26df9ebb1c",
     "showTitle": false,
     "tableResultSettingsMap": {},
     "title": ""
    }
   },
   "outputs": [],
   "source": [
    "driver.execute_query(\n",
    "    \"\"\"\n",
    "        CREATE CONSTRAINT source IF NOT EXISTS\n",
    "        FOR (s:Source) REQUIRE s.source_id IS UNIQUE    \n",
    "    \"\"\",\n",
    "    database_=os.environ['NEO4J_DATABASE'],\n",
    "    routing_=RoutingControl.WRITE,\n",
    "    result_transformer_= lambda r: r.to_df()\n",
    ")"
   ]
  },
  {
   "cell_type": "code",
   "execution_count": 0,
   "metadata": {
    "application/vnd.databricks.v1+cell": {
     "cellMetadata": {
      "byteLimit": 2048000,
      "rowLimit": 10000
     },
     "inputWidgets": {},
     "nuid": "d064f827-cf19-4999-885b-eb7c069dde7f",
     "showTitle": false,
     "tableResultSettingsMap": {},
     "title": ""
    },
    "nteract": {
     "transient": {
      "deleting": false
     }
    }
   },
   "outputs": [],
   "source": [
    "(\n",
    "    source_df\n",
    "    .write\n",
    "    .format(\"org.neo4j.spark.DataSource\")\n",
    "    .mode(\"Overwrite\")\n",
    "    .option(\"labels\", \":Source\")\n",
    "    .option(\"node.keys\", \"source_id:source_id\")\n",
    "    .option(\"schema.optimization.node.keys\", \"KEY\")\n",
    "    .save()\n",
    ")"
   ]
  },
  {
   "cell_type": "code",
   "execution_count": 0,
   "metadata": {
    "application/vnd.databricks.v1+cell": {
     "cellMetadata": {
      "byteLimit": 2048000,
      "rowLimit": 10000
     },
     "inputWidgets": {},
     "nuid": "d7f8f90f-0974-4f16-b8e6-e87f5d2ae96b",
     "showTitle": false,
     "tableResultSettingsMap": {},
     "title": ""
    }
   },
   "outputs": [],
   "source": [
    "target_df = (\n",
    "    rating_df\n",
    "    .select(\"target_id\")\n",
    "    .distinct()\n",
    ")   "
   ]
  },
  {
   "cell_type": "code",
   "execution_count": 0,
   "metadata": {
    "application/vnd.databricks.v1+cell": {
     "cellMetadata": {
      "byteLimit": 2048000,
      "rowLimit": 10000
     },
     "inputWidgets": {},
     "nuid": "0c3d648a-e22e-4b2a-8013-2988f82472fb",
     "showTitle": false,
     "tableResultSettingsMap": {},
     "title": ""
    }
   },
   "outputs": [],
   "source": [
    "target_df.count()"
   ]
  },
  {
   "cell_type": "code",
   "execution_count": 0,
   "metadata": {
    "application/vnd.databricks.v1+cell": {
     "cellMetadata": {
      "byteLimit": 2048000,
      "rowLimit": 10000
     },
     "inputWidgets": {},
     "nuid": "1b714f13-ef6e-4996-b287-54271fe63b8a",
     "showTitle": false,
     "tableResultSettingsMap": {},
     "title": ""
    }
   },
   "outputs": [],
   "source": [
    "target_df.limit(5).display()"
   ]
  },
  {
   "cell_type": "code",
   "execution_count": 0,
   "metadata": {
    "application/vnd.databricks.v1+cell": {
     "cellMetadata": {
      "byteLimit": 2048000,
      "rowLimit": 10000
     },
     "inputWidgets": {},
     "nuid": "29de0332-1823-484f-9d46-7fd8dace6fc5",
     "showTitle": false,
     "tableResultSettingsMap": {},
     "title": ""
    }
   },
   "outputs": [],
   "source": [
    "driver.execute_query(\n",
    "    \"\"\"\n",
    "    CREATE CONSTRAINT target IF NOT EXISTS\n",
    "    FOR (t:Target) REQUIRE t.target_id IS UNIQUE\n",
    "    \"\"\",\n",
    "    database_=os.environ['NEO4J_DATABASE'],\n",
    "    routing_=RoutingControl.WRITE,\n",
    "    result_transformer_= lambda r: r.to_df()\n",
    ")"
   ]
  },
  {
   "cell_type": "code",
   "execution_count": 0,
   "metadata": {
    "application/vnd.databricks.v1+cell": {
     "cellMetadata": {
      "byteLimit": 2048000,
      "rowLimit": 10000
     },
     "inputWidgets": {},
     "nuid": "4030c3df-3d5e-49fd-b9a2-07f7b25ea42a",
     "showTitle": false,
     "tableResultSettingsMap": {},
     "title": ""
    },
    "nteract": {
     "transient": {
      "deleting": false
     }
    }
   },
   "outputs": [],
   "source": [
    "(\n",
    "    target_df\n",
    "    .write\n",
    "    .format(\"org.neo4j.spark.DataSource\")\n",
    "    .mode(\"Overwrite\")\n",
    "    .option(\"labels\", \":Target\")\n",
    "    .option(\"node.keys\", \"target_id:target_id\")\n",
    "    .option(\"schema.optimization.node.keys\", \"KEY\")\n",
    "    .save()\n",
    ")"
   ]
  },
  {
   "cell_type": "markdown",
   "metadata": {
    "application/vnd.databricks.v1+cell": {
     "cellMetadata": {
      "byteLimit": 2048000,
      "rowLimit": 10000
     },
     "inputWidgets": {},
     "nuid": "bee5e1df-cf8a-490c-a7cf-3fcea462d0c9",
     "showTitle": false,
     "tableResultSettingsMap": {},
     "title": ""
    },
    "nteract": {
     "transient": {
      "deleting": false
     }
    }
   },
   "source": [
    "## Load Relations in Parallel"
   ]
  },
  {
   "cell_type": "code",
   "execution_count": 0,
   "metadata": {
    "application/vnd.databricks.v1+cell": {
     "cellMetadata": {
      "byteLimit": 2048000,
      "rowLimit": 10000
     },
     "inputWidgets": {},
     "nuid": "d3ce38d2-31f2-4c1e-a5f5-95ad72a21061",
     "showTitle": false,
     "tableResultSettingsMap": {},
     "title": ""
    }
   },
   "outputs": [],
   "source": [
    "t0 = time.time()"
   ]
  },
  {
   "cell_type": "code",
   "execution_count": 0,
   "metadata": {
    "application/vnd.databricks.v1+cell": {
     "cellMetadata": {
      "byteLimit": 2048000,
      "rowLimit": 10000
     },
     "inputWidgets": {},
     "nuid": "35f8be45-4e7c-446f-853a-e7c84a92337b",
     "showTitle": false,
     "tableResultSettingsMap": {},
     "title": ""
    },
    "nteract": {
     "transient": {
      "deleting": false
     }
    }
   },
   "outputs": [],
   "source": [
    "rel_batch_df = group_and_batch_spark_dataframe(spark_dataframe=rating_df, \n",
    "                                               source_col='source_id', \n",
    "                                               target_col='target_id', \n",
    "                                               num_groups=spark_executor_count)"
   ]
  },
  {
   "cell_type": "code",
   "execution_count": 0,
   "metadata": {
    "application/vnd.databricks.v1+cell": {
     "cellMetadata": {
      "byteLimit": 2048000,
      "rowLimit": 10000
     },
     "inputWidgets": {},
     "nuid": "10b2fbd7-42f4-4bdf-9752-2f55f6730bf7",
     "showTitle": false,
     "tableResultSettingsMap": {},
     "title": ""
    },
    "nteract": {
     "transient": {
      "deleting": false
     }
    }
   },
   "outputs": [],
   "source": [
    "rel_batch_df.show()"
   ]
  },
  {
   "cell_type": "code",
   "execution_count": 0,
   "metadata": {
    "application/vnd.databricks.v1+cell": {
     "cellMetadata": {
      "byteLimit": 2048000,
      "rowLimit": 10000
     },
     "inputWidgets": {},
     "nuid": "877c299a-030c-42ab-b150-4bbb0e6976f4",
     "showTitle": false,
     "tableResultSettingsMap": {},
     "title": ""
    }
   },
   "outputs": [],
   "source": [
    "create_ingest_heatmap(rel_batch_df)"
   ]
  },
  {
   "cell_type": "code",
   "execution_count": 0,
   "metadata": {
    "application/vnd.databricks.v1+cell": {
     "cellMetadata": {
      "byteLimit": 2048000,
      "rowLimit": 10000
     },
     "inputWidgets": {},
     "nuid": "d5dbfb38-4e3d-4164-966a-9f29e535218d",
     "showTitle": false,
     "tableResultSettingsMap": {},
     "title": ""
    }
   },
   "outputs": [],
   "source": [
    "rel_batch_df"
   ]
  },
  {
   "cell_type": "code",
   "execution_count": 0,
   "metadata": {
    "application/vnd.databricks.v1+cell": {
     "cellMetadata": {
      "byteLimit": 2048000,
      "rowLimit": 10000
     },
     "inputWidgets": {},
     "nuid": "7766c9c9-9454-4a27-a827-aea4a4017369",
     "showTitle": false,
     "tableResultSettingsMap": {},
     "title": ""
    }
   },
   "outputs": [],
   "source": [
    "query = \"\"\"\n",
    "    MATCH (source:Source {source_id: event.source_id})\n",
    "    MATCH (target:Target {target_id: event.target_id})\n",
    "    MERGE (source)-[r:RELATES_TO {timestamp:event.timestamp}]->(target)\n",
    "    SET r.rating = event.rating\n",
    "    \"\"\"\n",
    "    \n",
    "ingest_spark_dataframe(\n",
    "    spark_dataframe=rel_batch_df,\n",
    "    save_mode= \"Overwrite\",\n",
    "    options={\"query\":query},\n",
    "    num_groups = spark_executor_count\n",
    ")"
   ]
  },
  {
   "cell_type": "code",
   "execution_count": 0,
   "metadata": {
    "application/vnd.databricks.v1+cell": {
     "cellMetadata": {
      "byteLimit": 2048000,
      "rowLimit": 10000
     },
     "inputWidgets": {},
     "nuid": "135675cf-8eee-42b8-8449-9cdccd8dff28",
     "showTitle": false,
     "tableResultSettingsMap": {},
     "title": ""
    }
   },
   "outputs": [],
   "source": [
    "t1 = time.time()\n",
    "parallel_load_time = t1-t0\n",
    "parallel_load_time"
   ]
  },
  {
   "cell_type": "code",
   "execution_count": 0,
   "metadata": {
    "application/vnd.databricks.v1+cell": {
     "cellMetadata": {
      "byteLimit": 2048000,
      "rowLimit": 10000
     },
     "inputWidgets": {},
     "nuid": "2c3a673c-a5b0-441d-8622-2b9c75105600",
     "showTitle": false,
     "tableResultSettingsMap": {},
     "title": ""
    }
   },
   "outputs": [],
   "source": [
    "driver.execute_query(\n",
    "    \"\"\"\n",
    "    MATCH ()-[r]-()\n",
    "    RETURN COUNT(r) \n",
    "    \"\"\",\n",
    "    database_=os.environ['NEO4J_DATABASE'],\n",
    "    routing_=RoutingControl.READ,\n",
    "    result_transformer_= lambda r: r.to_df()\n",
    ")"
   ]
  },
  {
   "cell_type": "markdown",
   "metadata": {
    "application/vnd.databricks.v1+cell": {
     "cellMetadata": {
      "byteLimit": 2048000,
      "rowLimit": 10000
     },
     "inputWidgets": {},
     "nuid": "16501d42-e3df-4a32-a0ad-4103b5652ae5",
     "showTitle": false,
     "tableResultSettingsMap": {},
     "title": ""
    },
    "nteract": {
     "transient": {
      "deleting": false
     }
    }
   },
   "source": [
    "## Delete Relations"
   ]
  },
  {
   "cell_type": "code",
   "execution_count": 0,
   "metadata": {
    "application/vnd.databricks.v1+cell": {
     "cellMetadata": {
      "byteLimit": 2048000,
      "rowLimit": 10000
     },
     "inputWidgets": {},
     "nuid": "799b843a-6160-413d-baa9-b83588ef1fb2",
     "showTitle": false,
     "tableResultSettingsMap": {},
     "title": ""
    },
    "nteract": {
     "transient": {
      "deleting": false
     }
    }
   },
   "outputs": [],
   "source": [
    "driver.execute_query(\n",
    "    \"\"\"\n",
    "    CALL apoc.periodic.iterate(\n",
    "        \"MATCH ()-[r]-() RETURN r\",\n",
    "        \"DELETE r\",\n",
    "        {batchSize:10000, parallel:false}\n",
    "    )\n",
    "    \"\"\",\n",
    "    database_=os.environ['NEO4J_DATABASE'],\n",
    "    routing_=RoutingControl.WRITE,\n",
    "    result_transformer_= lambda r: r.to_df()\n",
    ")"
   ]
  },
  {
   "cell_type": "markdown",
   "metadata": {
    "application/vnd.databricks.v1+cell": {
     "cellMetadata": {
      "byteLimit": 2048000,
      "rowLimit": 10000
     },
     "inputWidgets": {},
     "nuid": "1c307766-aef2-4ea4-920c-09da1308d176",
     "showTitle": false,
     "tableResultSettingsMap": {},
     "title": ""
    },
    "nteract": {
     "transient": {
      "deleting": false
     }
    }
   },
   "source": [
    "## Load Relations Serially"
   ]
  },
  {
   "cell_type": "code",
   "execution_count": 0,
   "metadata": {
    "application/vnd.databricks.v1+cell": {
     "cellMetadata": {
      "byteLimit": 2048000,
      "rowLimit": 10000
     },
     "inputWidgets": {},
     "nuid": "e1588445-9825-4367-b5ae-4faaf7bb42f5",
     "showTitle": false,
     "tableResultSettingsMap": {},
     "title": ""
    }
   },
   "outputs": [],
   "source": [
    "t3 = time.time()"
   ]
  },
  {
   "cell_type": "code",
   "execution_count": 0,
   "metadata": {
    "application/vnd.databricks.v1+cell": {
     "cellMetadata": {
      "byteLimit": 2048000,
      "rowLimit": 10000
     },
     "inputWidgets": {},
     "nuid": "86e0331b-06d8-4774-a6b5-435a64e03596",
     "showTitle": false,
     "tableResultSettingsMap": {},
     "title": ""
    }
   },
   "outputs": [],
   "source": [
    "(\n",
    "    rating_df\n",
    "    .withColumnRenamed('source_id', 'source.source_id')\n",
    "    .withColumnRenamed('target_id', 'target.target_id')\n",
    "    .repartition(1)\n",
    "    .write\n",
    "    .format(\"org.neo4j.spark.DataSource\")\n",
    "    .mode(\"overwrite\")\n",
    "    .option(\"url\", os.environ.get(\"NEO4J_URI\"))\n",
    "    .option(\"authentication.type\", \"basic\")\n",
    "    .option(\"authentication.basic.username\", os.environ.get(\"NEO4J_USERNAME\"))\n",
    "    .option(\"authentication.basic.password\", os.environ.get(\"NEO4J_PASSWORD\"))\n",
    "    .option(\"database\", os.environ.get(\"NEO4J_DATABASE\"))\n",
    "    .option(\"relationship\", \"RELATES_TO\")\n",
    "    .option(\"relationship.source.labels\", \":Source\")\n",
    "    .option(\"relationship.source.save.mode\", \"overwrite\")\n",
    "    .option(\"relationship.source.node.keys\", \"source.source_id:source_id\")\n",
    "    .option(\"relationship.target.labels\", \":Target\")\n",
    "    .option(\"relationship.target.save.mode\", \"overwrite\")\n",
    "    .option(\"relationship.target.node.keys\", \"target.target_id:target_id\")\n",
    "    .save()\n",
    ")"
   ]
  },
  {
   "cell_type": "code",
   "execution_count": 0,
   "metadata": {
    "application/vnd.databricks.v1+cell": {
     "cellMetadata": {
      "byteLimit": 2048000,
      "rowLimit": 10000
     },
     "inputWidgets": {},
     "nuid": "f96d933e-84f8-472c-8cc9-6a7a5b5d5010",
     "showTitle": false,
     "tableResultSettingsMap": {},
     "title": ""
    }
   },
   "outputs": [],
   "source": [
    "t4 = time.time()\n",
    "load_serial_time = t4 - t3\n",
    "load_serial_time"
   ]
  },
  {
   "cell_type": "code",
   "execution_count": 0,
   "metadata": {
    "application/vnd.databricks.v1+cell": {
     "cellMetadata": {
      "byteLimit": 2048000,
      "rowLimit": 10000
     },
     "inputWidgets": {},
     "nuid": "c480a54d-559c-40e1-938a-ed887cd2ccd3",
     "showTitle": false,
     "tableResultSettingsMap": {},
     "title": ""
    }
   },
   "outputs": [],
   "source": [
    "driver.execute_query(\n",
    "    \"\"\"\n",
    "    MATCH ()-[r]-()\n",
    "    RETURN COUNT(r) \n",
    "    \"\"\",\n",
    "    database_=os.environ['NEO4J_DATABASE'],\n",
    "    routing_=RoutingControl.READ,\n",
    "    result_transformer_= lambda r: r.to_df()\n",
    ")"
   ]
  },
  {
   "cell_type": "code",
   "execution_count": 0,
   "metadata": {
    "application/vnd.databricks.v1+cell": {
     "cellMetadata": {
      "byteLimit": 2048000,
      "rowLimit": 10000
     },
     "inputWidgets": {},
     "nuid": "1c1b6f0f-d33d-4db7-b8ce-f09cbfb0451c",
     "showTitle": false,
     "tableResultSettingsMap": {},
     "title": ""
    }
   },
   "outputs": [],
   "source": [
    "driver.execute_query(\n",
    "    \"\"\"\n",
    "    CALL apoc.periodic.iterate(\n",
    "        \"MATCH (n) RETURN n\",\n",
    "        \"DETACH DELETE n\",\n",
    "        {batchSize:10000, parallel:false}\n",
    "    )\n",
    "    \"\"\",\n",
    "    database_=os.environ['NEO4J_DATABASE'],\n",
    "    routing_=RoutingControl.WRITE,\n",
    "    result_transformer_= lambda r: r.to_df()\n",
    ")"
   ]
  }
 ],
 "metadata": {
  "application/vnd.databricks.v1+notebook": {
   "computePreferences": null,
   "dashboards": [],
   "environmentMetadata": null,
   "inputWidgetPreferences": null,
   "language": "python",
   "notebookMetadata": {
    "pythonIndentUnit": 4
   },
   "notebookName": "Bipartite Amazon Ratings",
   "widgets": {}
  },
  "description": null,
  "kernelspec": {
   "display_name": ".venv",
   "language": "python",
   "name": "python3"
  },
  "language_info": {
   "name": "python"
  },
  "save_output": true,
  "synapse_widget": {
   "state": {},
   "version": "0.1"
  }
 },
 "nbformat": 4,
 "nbformat_minor": 0
}
